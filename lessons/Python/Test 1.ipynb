{
 "cells": [
  {
   "cell_type": "code",
   "execution_count": null,
   "metadata": {},
   "outputs": [],
   "source": [
    "a=int(input())\n",
    "b=int(input())\n",
    "c=int(input())\n",
    "p = (a+b+c)/2\n",
    "s = (p*(p-a)*(p-b)*(p-c)) ** 0.5\n",
    "print(s)"
   ]
  },
  {
   "cell_type": "code",
   "execution_count": null,
   "metadata": {},
   "outputs": [],
   "source": [
    "a = int(input())\n",
    "if(-15 < a <= 12 or 14 < a < 17 or a>=19):\n",
    "    print(True)\n",
    "else:\n",
    "    print(False)"
   ]
  },
  {
   "cell_type": "code",
   "execution_count": 4,
   "metadata": {},
   "outputs": [
    {
     "name": "stdout",
     "output_type": "stream",
     "text": [
      "1\n",
      "2\n",
      "-\n",
      "-1.0\n"
     ]
    }
   ],
   "source": [
    "a = float(input())\n",
    "b = float(input())\n",
    "op = str(input())\n",
    "if(b == 0 and (op == 'div' or op == 'mod' or op == '/')):\n",
    "    result = 'Деление на 0!'\n",
    "elif(op == '+'):\n",
    "    result = a + b\n",
    "elif(op == '-'):\n",
    "    result = a - b    \n",
    "elif(op == '*'):\n",
    "    result = a * b\n",
    "elif(op == '/'):\n",
    "    result = a / b\n",
    "elif(op == 'pow'):\n",
    "    result = a ** b \n",
    "elif(op == 'div'):\n",
    "    result = a // b\n",
    "elif(op == 'mod'):\n",
    "    result = a % b\n",
    "else:\n",
    "    result = 'Неизвестный оператор'\n",
    "print(result)"
   ]
  },
  {
   "cell_type": "code",
   "execution_count": null,
   "metadata": {},
   "outputs": [],
   "source": [
    "type = str(input())\n",
    "if(type == 'треугольник'):\n",
    "    a = int(input())\n",
    "    b = int(input())\n",
    "    c = int(input())\n",
    "    p = (a+b+c)/2\n",
    "    s = (p*(p-a)*(p-b)*(p-c)) ** 0.5\n",
    "elif(type == 'прямоугольник'):\n",
    "    a = int(input())\n",
    "    b = int(input())\n",
    "    s = a * b\n",
    "elif(type == 'круг'):\n",
    "    a = int(input())\n",
    "    s = 3.14 * a *a\n",
    "else:\n",
    "    s = 'Неправильная фигура'\n",
    "\n",
    "print(s)"
   ]
  },
  {
   "cell_type": "code",
   "execution_count": null,
   "metadata": {},
   "outputs": [],
   "source": [
    "a = int(input())\n",
    "b = int(input())\n",
    "c = int(input())\n",
    "maxValue = max(a, b, c)\n",
    "minValue = min(a, b, c)\n",
    "lastValue = a + b + c - maxValue - minValue\n",
    "print(maxValue)\n",
    "print(minValue)\n",
    "print(lastValue)"
   ]
  },
  {
   "cell_type": "code",
   "execution_count": 26,
   "metadata": {},
   "outputs": [
    {
     "data": {
      "text/plain": [
       "0"
      ]
     },
     "execution_count": 26,
     "metadata": {},
     "output_type": "execute_result"
    }
   ],
   "source": [
    "10 % 10"
   ]
  },
  {
   "cell_type": "code",
   "execution_count": 21,
   "metadata": {},
   "outputs": [
    {
     "name": "stdout",
     "output_type": "stream",
     "text": [
      "0\n",
      "0 программист\n"
     ]
    }
   ],
   "source": [
    "n = int(input())\n",
    "\n",
    "mod = n\n",
    "if(mod > 9):\n",
    "    mod = mod % 10\n",
    "\n",
    "if(mod > 9):\n",
    "    mod = mod % 10\n",
    "    \n",
    "if(mod > 9):\n",
    "    mod = mod % 10\n",
    "\n",
    "if(mod == 1):\n",
    "    suffix = 'программист'\n",
    "elif(1 <= mod <= 4):\n",
    "    suffix = 'программиста'\n",
    "elif(mod == 0 or 5 <= mod <= 9):\n",
    "    suffix = 'программистов'\n",
    "else:\n",
    "    suffix = 'неизвестный вариант'\n",
    "print(n, suffix)"
   ]
  },
  {
   "cell_type": "code",
   "execution_count": null,
   "metadata": {},
   "outputs": [],
   "source": []
  }
 ],
 "metadata": {
  "kernelspec": {
   "display_name": "Python 3",
   "language": "python",
   "name": "python3"
  },
  "language_info": {
   "codemirror_mode": {
    "name": "ipython",
    "version": 3
   },
   "file_extension": ".py",
   "mimetype": "text/x-python",
   "name": "python",
   "nbconvert_exporter": "python",
   "pygments_lexer": "ipython3",
   "version": "3.7.5"
  }
 },
 "nbformat": 4,
 "nbformat_minor": 2
}
