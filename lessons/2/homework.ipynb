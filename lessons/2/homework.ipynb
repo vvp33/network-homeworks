{
 "cells": [
  {
   "cell_type": "code",
   "execution_count": 1,
   "metadata": {},
   "outputs": [],
   "source": [
    "import torch\n",
    "import torch.nn as nn\n",
    "import torch.nn.functional as F\n",
    "import torch.optim as optim\n",
    "\n",
    "import numpy as np\n",
    "import scipy.stats as stats\n",
    "from mpl_toolkits import mplot3d\n",
    "import matplotlib.pyplot as plt\n",
    "\n",
    "%matplotlib inline"
   ]
  },
  {
   "cell_type": "code",
   "execution_count": 13,
   "metadata": {},
   "outputs": [],
   "source": [
    "# параметры распределений\n",
    "mu0, sigma0 = -2., 1.\n",
    "mu1, sigma1 = 3., 2.\n",
    "size_shape = 2"
   ]
  },
  {
   "cell_type": "code",
   "execution_count": 14,
   "metadata": {},
   "outputs": [],
   "source": [
    "def sample(d0, d1, n=32):\n",
    "    x0 = d0.sample((n,size_shape))\n",
    "    x1 = d1.sample((n,size_shape))\n",
    "    y0 = torch.zeros((n, size_shape))\n",
    "    y1 = torch.ones((n, size_shape))\n",
    "    return torch.cat([x0.view(-1, size_shape), x1.view(-1, size_shape)], 0), torch.cat([y0, y1], 0)"
   ]
  },
  {
   "cell_type": "code",
   "execution_count": 15,
   "metadata": {},
   "outputs": [],
   "source": [
    "d0 = torch.distributions.Normal(torch.tensor([mu0]), torch.tensor([sigma0]))\n",
    "d1 = torch.distributions.Normal(torch.tensor([mu1]), torch.tensor([sigma1]))"
   ]
  },
  {
   "cell_type": "code",
   "execution_count": 16,
   "metadata": {},
   "outputs": [
    {
     "name": "stdout",
     "output_type": "stream",
     "text": [
      "[tensor([-0.5833, -0.4804]), tensor(-0.5051)]\n"
     ]
    }
   ],
   "source": [
    "layer = nn.Linear(size_shape, size_shape)\n",
    "print([p.data[0] for p in layer.parameters()])\n",
    "layer_opt = optim.SGD(lr=1e-3, params=list(layer.parameters()))"
   ]
  },
  {
   "cell_type": "code",
   "execution_count": 17,
   "metadata": {},
   "outputs": [
    {
     "name": "stdout",
     "output_type": "stream",
     "text": [
      "Ошибка после 0 итераций: 2.088120\n",
      "Ошибка после 1 итераций: 0.650246\n",
      "Ошибка после 2 итераций: 0.303883\n",
      "Ошибка после 3 итераций: 0.208895\n",
      "Ошибка после 4 итераций: 0.166618\n",
      "Ошибка после 5 итераций: 0.141026\n",
      "Ошибка после 6 итераций: 0.124805\n",
      "Ошибка после 7 итераций: 0.113134\n",
      "Ошибка после 8 итераций: 0.103560\n",
      "Ошибка после 9 итераций: 0.097150\n",
      "Ошибка после 10 итераций: 0.091258\n",
      "Ошибка после 11 итераций: 0.086655\n",
      "Ошибка после 12 итераций: 0.083079\n",
      "Ошибка после 13 итераций: 0.079261\n",
      "Ошибка после 14 итераций: 0.076196\n",
      "Ошибка после 15 итераций: 0.073523\n",
      "Ошибка после 16 итераций: 0.071902\n",
      "Ошибка после 17 итераций: 0.068974\n",
      "Ошибка после 18 итераций: 0.067033\n",
      "Ошибка после 19 итераций: 0.066232\n"
     ]
    }
   ],
   "source": [
    "log_freq = 500\n",
    "for i in range(10000):\n",
    "    if i%log_freq == 0:\n",
    "        with torch.no_grad():\n",
    "            x, y = sample(d0, d1, 100000)\n",
    "            out = torch.sigmoid(layer(x))\n",
    "            loss = F.binary_cross_entropy(out, y)\n",
    "        print('Ошибка после %d итераций: %f' %(i/log_freq, loss))\n",
    "    layer_opt.zero_grad()\n",
    "    x, y = sample(d0, d1, 1024)\n",
    "    out = torch.sigmoid(layer(x))\n",
    "    loss = F.binary_cross_entropy(out, y)\n",
    "    loss.backward()\n",
    "    layer_opt.step()"
   ]
  },
  {
   "cell_type": "code",
   "execution_count": 18,
   "metadata": {},
   "outputs": [],
   "source": [
    "x_scale = np.linspace(-10, 10, 5000)\n",
    "#x_scale = np.array(np.meshgrid(x_scale_1d, x_scale_1d)).T.reshape(-1, size_shape)\n",
    "d0_pdf = stats.norm.pdf(x_scale, mu0, sigma0) \n",
    "d1_pdf = stats.norm.pdf(x_scale, mu1, sigma1)\n",
    "x_tensor = torch.tensor(x_scale.reshape(-1, size_shape), dtype=torch.float)\n",
    "with torch.no_grad():\n",
    "     dist = torch.sigmoid(layer(x_tensor)).numpy()\n",
    "ratio = d1_pdf / (d1_pdf + d0_pdf)"
   ]
  },
  {
   "cell_type": "code",
   "execution_count": 19,
   "metadata": {
    "scrolled": false
   },
   "outputs": [
    {
     "data": {
      "text/plain": [
       "array([5.05227108e-15, 5.21654998e-15, 5.38608433e-15, ...,\n",
       "       2.36262109e-32, 2.25192643e-32, 2.14638374e-32])"
      ]
     },
     "execution_count": 19,
     "metadata": {},
     "output_type": "execute_result"
    }
   ],
   "source": [
    "d0_pdf"
   ]
  },
  {
   "cell_type": "code",
   "execution_count": null,
   "metadata": {},
   "outputs": [],
   "source": [
    "fig = plt.figure()\n",
    "if (size_shape == 2):\n",
    "    ax = plt.axes(projection='3d')\n",
    "    ax.plot3D(x_scale, x_scale, d0_pdf*2, 'gray')\n",
    "else:\n",
    "    plt.plot(x_scale, d0_pdf*2, label='d0') # умножение на 2 для красоты графиков, на распределения не влияет\n",
    "    plt.plot(x_scale, d1_pdf*2, label='d1')\n",
    "    plt.plot(x_scale, dist.flatten(), label='pred')\n",
    "    plt.plot(x_scale, ratio, label='ratio')\n",
    "    plt.legend();"
   ]
  },
  {
   "cell_type": "code",
   "execution_count": 23,
   "metadata": {},
   "outputs": [
    {
     "name": "stdout",
     "output_type": "stream",
     "text": [
      "[tensor([[0.7995, 0.8364],\n",
      "        [0.7504, 0.9252]]), tensor([-0.3950, -0.5318])]\n"
     ]
    }
   ],
   "source": [
    "print([p.data for p in layer.parameters()])"
   ]
  },
  {
   "cell_type": "code",
   "execution_count": 24,
   "metadata": {},
   "outputs": [
    {
     "data": {
      "text/plain": [
       "tensor(-inf)"
      ]
     },
     "execution_count": 24,
     "metadata": {},
     "output_type": "execute_result"
    }
   ],
   "source": [
    "torch.log(F.sigmoid(torch.tensor(-100.)))"
   ]
  },
  {
   "cell_type": "code",
   "execution_count": 25,
   "metadata": {},
   "outputs": [
    {
     "data": {
      "text/plain": [
       "tensor(-100.)"
      ]
     },
     "execution_count": 25,
     "metadata": {},
     "output_type": "execute_result"
    }
   ],
   "source": [
    "F.logsigmoid(torch.tensor(-100.))"
   ]
  },
  {
   "cell_type": "code",
   "execution_count": null,
   "metadata": {},
   "outputs": [],
   "source": []
  }
 ],
 "metadata": {
  "kernelspec": {
   "display_name": "Python 3",
   "language": "python",
   "name": "python3"
  },
  "language_info": {
   "codemirror_mode": {
    "name": "ipython",
    "version": 3
   },
   "file_extension": ".py",
   "mimetype": "text/x-python",
   "name": "python",
   "nbconvert_exporter": "python",
   "pygments_lexer": "ipython3",
   "version": "3.6.8"
  }
 },
 "nbformat": 4,
 "nbformat_minor": 2
}
