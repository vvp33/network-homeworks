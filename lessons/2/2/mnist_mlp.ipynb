{
 "cells": [
  {
   "cell_type": "code",
   "execution_count": 1,
   "metadata": {},
   "outputs": [],
   "source": [
    "import torch\n",
    "import torch.nn as nn\n",
    "import torch.nn.functional as F\n",
    "import torch.optim as optim\n",
    "from torchvision import datasets, transforms\n",
    "\n",
    "from utils import mnist\n",
    "\n",
    "import matplotlib.pyplot as plt\n",
    "\n",
    "%matplotlib inline"
   ]
  },
  {
   "cell_type": "code",
   "execution_count": 2,
   "metadata": {},
   "outputs": [],
   "source": [
    "train_loader, test_loader = mnist()"
   ]
  },
  {
   "cell_type": "code",
   "execution_count": 3,
   "metadata": {},
   "outputs": [],
   "source": [
    "class Net(nn.Module):\n",
    "    def __init__(self, log_softmax=False):\n",
    "        super(Net, self).__init__()\n",
    "        innerLayerShape1 = 128\n",
    "        self.fc1 = nn.Linear(28*28, innerLayerShape1)\n",
    "        self.fc2 = nn.Linear(innerLayerShape1, 10)\n",
    "        self.log_softmax = log_softmax\n",
    "        self.optim = optim.SGD(self.parameters(), lr=0.1)\n",
    "        \n",
    "    def forward(self, x):\n",
    "        x = x.view(-1, 28*28)\n",
    "        x = torch.sigmoid(self.fc1(x))\n",
    "        x = self.fc2(x)\n",
    "        if self.log_softmax:\n",
    "            x = F.log_softmax(x, dim=1)\n",
    "        else:\n",
    "            x = torch.log(F.softmax(x, dim=1))\n",
    "        return x\n",
    "    \n",
    "    def loss(self, output, target, **kwargs):\n",
    "        self._loss = F.nll_loss(output, target, **kwargs)\n",
    "        return self._loss"
   ]
  },
  {
   "cell_type": "code",
   "execution_count": 4,
   "metadata": {},
   "outputs": [],
   "source": [
    "def train(epoch, models):\n",
    "    train_loss = [0]*len(models)\n",
    "    train_loss_count = [0]*len(models)\n",
    "    for batch_idx, (data, target) in enumerate(train_loader):\n",
    "        for m_idx, model in enumerate(models):\n",
    "            model.optim.zero_grad()\n",
    "            output = model(data)\n",
    "            loss = model.loss(output, target)\n",
    "            loss.backward()\n",
    "            model.optim.step()\n",
    "            train_loss[m_idx] += model._loss.item()\n",
    "            train_loss_count[m_idx] += 1\n",
    "            \n",
    "        if batch_idx % 200 == 0:\n",
    "            line = 'Train Epoch: {} [{}/{} ({:.0f}%)]\\tLosses '.format(\n",
    "                epoch, batch_idx * len(data), len(train_loader.dataset),\n",
    "                100. * batch_idx / len(train_loader))\n",
    "            lossesArr = []\n",
    "            for i, m in enumerate(models):\n",
    "                lossModel = m._loss.item()\n",
    "                lossesArr.append('{}: {:.6f}'.format(i, lossModel))\n",
    "            losses = ' '.join(lossesArr)\n",
    "            print(line + losses)\n",
    "    else:\n",
    "        batch_idx += 1\n",
    "        line = 'Train Epoch: {} [{}/{} ({:.0f}%)]\\tLosses '.format(\n",
    "            epoch, batch_idx * len(data), len(train_loader.dataset),\n",
    "            100. * batch_idx / len(train_loader))\n",
    "        lossesArr = []\n",
    "        for i, m in enumerate(models):\n",
    "            lossModel = m._loss.item()\n",
    "            lossesArr.append('{}: {:.6f}'.format(i, lossModel))\n",
    "        losses = ' '.join(lossesArr)\n",
    "        print(line + losses)\n",
    "    for i in range(len(models)):\n",
    "        train_loss[i] /= train_loss_count[i]\n",
    "        print('Loss {}: {:.4f}'.format(i, train_loss[i]))\n",
    "    return train_loss"
   ]
  },
  {
   "cell_type": "code",
   "execution_count": null,
   "metadata": {},
   "outputs": [],
   "source": []
  },
  {
   "cell_type": "code",
   "execution_count": 5,
   "metadata": {},
   "outputs": [],
   "source": [
    "models = [Net(), Net(True)]"
   ]
  },
  {
   "cell_type": "code",
   "execution_count": 6,
   "metadata": {},
   "outputs": [],
   "source": [
    "avg_lambda = lambda l: 'Loss: {:.4f}'.format(l)\n",
    "acc_lambda = lambda c, p: 'Accuracy: {}/{} ({:.0f}%)'.format(c, len(test_loader.dataset), p)\n",
    "line = lambda i, l, c, p: '{}: '.format(i) + avg_lambda(l) + '\\t' + acc_lambda(c, p)\n",
    "\n",
    "def test(models):\n",
    "    test_loss = [0]*len(models)\n",
    "    correct = [0]*len(models)\n",
    "    with torch.no_grad():\n",
    "        for data, target in test_loader:\n",
    "            output = [m(data) for m in models]\n",
    "            for i, m in enumerate(models):\n",
    "                test_loss[i] += m.loss(output[i], target, reduction='sum').item() # sum up batch loss\n",
    "                pred = output[i].data.max(1, keepdim=True)[1] # get the index of the max log-probability\n",
    "                correct[i] += pred.eq(target.data.view_as(pred)).cpu().sum()\n",
    "    \n",
    "    for i in range(len(models)):\n",
    "        test_loss[i] /= len(test_loader.dataset)\n",
    "    correct_pct = [100. * c / len(test_loader.dataset) for c in correct]\n",
    "    lines = '\\n'.join([line(i, test_loss[i], correct[i], correct_pct[i]) for i in range(len(models))]) + '\\n'\n",
    "    report = 'Test set:\\n' + lines\n",
    "    \n",
    "    print(report)\n",
    "    \n",
    "    return test_loss"
   ]
  },
  {
   "cell_type": "code",
   "execution_count": 7,
   "metadata": {},
   "outputs": [
    {
     "name": "stdout",
     "output_type": "stream",
     "text": [
      "Train Epoch: 1 [0/60000 (0%)]\tLosses 0: 2.349928 1: 2.350641\n",
      "Train Epoch: 1 [10000/60000 (17%)]\tLosses 0: 0.428371 1: 0.435409\n",
      "Train Epoch: 1 [20000/60000 (33%)]\tLosses 0: 0.398767 1: 0.402256\n",
      "Train Epoch: 1 [30000/60000 (50%)]\tLosses 0: 0.159663 1: 0.161002\n",
      "Train Epoch: 1 [40000/60000 (67%)]\tLosses 0: 0.319213 1: 0.330344\n",
      "Train Epoch: 1 [50000/60000 (83%)]\tLosses 0: 0.342024 1: 0.328072\n",
      "Train Epoch: 1 [60000/60000 (100%)]\tLosses 0: 0.334545 1: 0.329944\n",
      "Loss 0: 0.4457\n",
      "Loss 1: 0.4478\n",
      "Test set:\n",
      "0: Loss: 0.2586\tAccuracy: 9255/10000 (93%)\n",
      "1: Loss: 0.2576\tAccuracy: 9265/10000 (93%)\n",
      "\n",
      "Train Epoch: 2 [0/60000 (0%)]\tLosses 0: 0.273241 1: 0.287803\n",
      "Train Epoch: 2 [10000/60000 (17%)]\tLosses 0: 0.200590 1: 0.209481\n",
      "Train Epoch: 2 [20000/60000 (33%)]\tLosses 0: 0.191960 1: 0.185642\n",
      "Train Epoch: 2 [30000/60000 (50%)]\tLosses 0: 0.267432 1: 0.265802\n",
      "Train Epoch: 2 [40000/60000 (67%)]\tLosses 0: 0.297965 1: 0.300098\n",
      "Train Epoch: 2 [50000/60000 (83%)]\tLosses 0: 0.262899 1: 0.252496\n",
      "Train Epoch: 2 [60000/60000 (100%)]\tLosses 0: 0.398396 1: 0.358326\n",
      "Loss 0: 0.2325\n",
      "Loss 1: 0.2312\n",
      "Test set:\n",
      "0: Loss: 0.1995\tAccuracy: 9433/10000 (94%)\n",
      "1: Loss: 0.1982\tAccuracy: 9440/10000 (94%)\n",
      "\n",
      "Train Epoch: 3 [0/60000 (0%)]\tLosses 0: 0.291393 1: 0.262356\n",
      "Train Epoch: 3 [10000/60000 (17%)]\tLosses 0: 0.243347 1: 0.253774\n",
      "Train Epoch: 3 [20000/60000 (33%)]\tLosses 0: 0.201876 1: 0.238935\n",
      "Train Epoch: 3 [30000/60000 (50%)]\tLosses 0: 0.185489 1: 0.200873\n",
      "Train Epoch: 3 [40000/60000 (67%)]\tLosses 0: 0.113449 1: 0.108566\n",
      "Train Epoch: 3 [50000/60000 (83%)]\tLosses 0: 0.303700 1: 0.322697\n",
      "Train Epoch: 3 [60000/60000 (100%)]\tLosses 0: 0.149617 1: 0.137603\n",
      "Loss 0: 0.1821\n",
      "Loss 1: 0.1806\n",
      "Test set:\n",
      "0: Loss: 0.1661\tAccuracy: 9515/10000 (95%)\n",
      "1: Loss: 0.1639\tAccuracy: 9533/10000 (95%)\n",
      "\n",
      "Train Epoch: 4 [0/60000 (0%)]\tLosses 0: 0.171310 1: 0.167359\n",
      "Train Epoch: 4 [10000/60000 (17%)]\tLosses 0: 0.144841 1: 0.118054\n",
      "Train Epoch: 4 [20000/60000 (33%)]\tLosses 0: 0.100309 1: 0.094216\n",
      "Train Epoch: 4 [30000/60000 (50%)]\tLosses 0: 0.205073 1: 0.180055\n",
      "Train Epoch: 4 [40000/60000 (67%)]\tLosses 0: 0.179842 1: 0.213459\n",
      "Train Epoch: 4 [50000/60000 (83%)]\tLosses 0: 0.155752 1: 0.150609\n",
      "Train Epoch: 4 [60000/60000 (100%)]\tLosses 0: 0.268942 1: 0.299430\n",
      "Loss 0: 0.1509\n",
      "Loss 1: 0.1495\n",
      "Test set:\n",
      "0: Loss: 0.1414\tAccuracy: 9592/10000 (96%)\n",
      "1: Loss: 0.1404\tAccuracy: 9596/10000 (96%)\n",
      "\n"
     ]
    }
   ],
   "source": [
    "count_epoch = 4\n",
    "train_losses = [[0.0] * count_epoch for i in range(len(models))]\n",
    "test_losses = [[0.0] * count_epoch for i in range(len(models))]\n",
    "for epoch in range(count_epoch):\n",
    "    train_loss = train(epoch+1, models)\n",
    "    test_loss = test(models)\n",
    "    for i in range(len(models)):\n",
    "        train_losses[i][epoch] = train_loss[i]\n",
    "        test_losses[i][epoch] = test_loss[i]"
   ]
  },
  {
   "cell_type": "code",
   "execution_count": 8,
   "metadata": {},
   "outputs": [
    {
     "data": {
      "image/png": "[encoded data removed]",
      "text/plain": [
       "<Figure size 432x288 with 1 Axes>"
      ]
     },
     "metadata": {
      "needs_background": "light"
     },
     "output_type": "display_data"
    }
   ],
   "source": [
    "x_scale = [x for x in range(1,count_epoch+1)]\n",
    "plt.plot(x_scale, train_losses[0], label='train_model_0')\n",
    "plt.plot(x_scale, test_losses[0], label='test_model_0')\n",
    "plt.plot(x_scale, train_losses[1], label='train_model_1')\n",
    "plt.plot(x_scale, test_losses[1], label='test_model_1')\n",
    "plt.legend();"
   ]
  },
  {
   "cell_type": "code",
   "execution_count": null,
   "metadata": {},
   "outputs": [],
   "source": []
  }
 ],
 "metadata": {
  "kernelspec": {
   "display_name": "Python 3",
   "language": "python",
   "name": "python3"
  },
  "language_info": {
   "codemirror_mode": {
    "name": "ipython",
    "version": 3
   },
   "file_extension": ".py",
   "mimetype": "text/x-python",
   "name": "python",
   "nbconvert_exporter": "python",
   "pygments_lexer": "ipython3",
   "version": "3.7.6"
  }
 },
 "nbformat": 4,
 "nbformat_minor": 2
}
