{
 "cells": [
  {
   "cell_type": "code",
   "execution_count": 1,
   "metadata": {},
   "outputs": [],
   "source": [
    "import torch\n",
    "import torch.nn as nn\n",
    "import torch.nn.functional as F\n",
    "import torch.optim as optim\n",
    "from torchvision import datasets, transforms\n",
    "\n",
    "from utils import mnist"
   ]
  },
  {
   "cell_type": "code",
   "execution_count": 2,
   "metadata": {},
   "outputs": [],
   "source": [
    "train_loader, test_loader = mnist()"
   ]
  },
  {
   "cell_type": "code",
   "execution_count": 3,
   "metadata": {},
   "outputs": [],
   "source": [
    "class Net(nn.Module):\n",
    "    def __init__(self, log_softmax=False):\n",
    "        super(Net, self).__init__()\n",
    "        innerLayerShape1 = 256\n",
    "        self.fc1 = nn.Linear(28*28, innerLayerShape1)\n",
    "        innerLayerShape2 = 128\n",
    "        self.fc2 = nn.Linear(innerLayerShape1, innerLayerShape2)\n",
    "        self.fc3 = nn.Linear(innerLayerShape2, 10)\n",
    "        self.log_softmax = log_softmax\n",
    "        self.optim = optim.SGD(self.parameters(), lr=0.1)\n",
    "        \n",
    "    def forward(self, x):\n",
    "        x = x.view(-1, 28*28)\n",
    "        x = torch.relu(self.fc1(x))\n",
    "        x = torch.relu(self.fc2(x))\n",
    "        x = self.fc3(x)\n",
    "        if self.log_softmax:\n",
    "            x = F.log_softmax(x, dim=1)\n",
    "        else:\n",
    "            x = torch.log(F.softmax(x, dim=1))\n",
    "        return x\n",
    "    \n",
    "    def loss(self, output, target, **kwargs):\n",
    "        self._loss = F.nll_loss(output, target, **kwargs)\n",
    "        return self._loss"
   ]
  },
  {
   "cell_type": "code",
   "execution_count": 4,
   "metadata": {},
   "outputs": [],
   "source": [
    "def train(epoch, models):\n",
    "    train_loss = [0]*len(models)\n",
    "    train_loss_count = [0]*len(models)\n",
    "    for batch_idx, (data, target) in enumerate(train_loader):\n",
    "        for model in models:\n",
    "            model.optim.zero_grad()\n",
    "            output = model(data)\n",
    "            loss = model.loss(output, target)\n",
    "            loss.backward()\n",
    "            model.optim.step()\n",
    "            \n",
    "        if batch_idx % 200 == 0:\n",
    "            line = 'Train Epoch: {} [{}/{} ({:.0f}%)]\\tLosses '.format(\n",
    "                epoch, batch_idx * len(data), len(train_loader.dataset),\n",
    "                100. * batch_idx / len(train_loader))\n",
    "            lossesArr = []\n",
    "            for i, m in enumerate(models):\n",
    "                lossModel = m._loss.item()\n",
    "                train_loss[i] += lossModel\n",
    "                train_loss_count[i] += 1\n",
    "                lossesArr.append('{}: {:.6f}'.format(i, lossModel))\n",
    "            losses = ' '.join(lossesArr)\n",
    "            print(line + losses)\n",
    "            \n",
    "    else:\n",
    "        batch_idx += 1\n",
    "        line = 'Train Epoch: {} [{}/{} ({:.0f}%)]\\tLosses '.format(\n",
    "            epoch, batch_idx * len(data), len(train_loader.dataset),\n",
    "            100. * batch_idx / len(train_loader))\n",
    "        lossesArr = []\n",
    "        for i, m in enumerate(models):\n",
    "            lossModel = m._loss.item()\n",
    "            train_loss[i] += lossModel\n",
    "            train_loss_count[i] += 1\n",
    "            lossesArr.append('{}: {:.6f}'.format(i, lossModel))\n",
    "        losses = ' '.join(lossesArr)\n",
    "        print(line + losses)\n",
    "    for i in range(len(models)):\n",
    "        train_loss[i] /= train_loss_count[i]\n",
    "        print('Loss: {:.4f}'.format(train_loss[i]))"
   ]
  },
  {
   "cell_type": "code",
   "execution_count": 5,
   "metadata": {},
   "outputs": [],
   "source": [
    "models = [Net(), Net(True)]"
   ]
  },
  {
   "cell_type": "code",
   "execution_count": 6,
   "metadata": {},
   "outputs": [],
   "source": [
    "avg_lambda = lambda l: 'Loss: {:.4f}'.format(l)\n",
    "acc_lambda = lambda c, p: 'Accuracy: {}/{} ({:.0f}%)'.format(c, len(test_loader.dataset), p)\n",
    "line = lambda i, l, c, p: '{}: '.format(i) + avg_lambda(l) + '\\t' + acc_lambda(c, p)\n",
    "\n",
    "def test(models):\n",
    "    test_loss = [0]*len(models)\n",
    "    correct = [0]*len(models)\n",
    "    with torch.no_grad():\n",
    "        for data, target in test_loader:\n",
    "            output = [m(data) for m in models]\n",
    "            for i, m in enumerate(models):\n",
    "                test_loss[i] += m.loss(output[i], target, reduction='sum').item() # sum up batch loss\n",
    "                pred = output[i].data.max(1, keepdim=True)[1] # get the index of the max log-probability\n",
    "                correct[i] += pred.eq(target.data.view_as(pred)).cpu().sum()\n",
    "    \n",
    "    for i in range(len(models)):\n",
    "        test_loss[i] /= len(test_loader.dataset)\n",
    "    correct_pct = [100. * c / len(test_loader.dataset) for c in correct]\n",
    "    lines = '\\n'.join([line(i, test_loss[i], correct[i], correct_pct[i]) for i in range(len(models))]) + '\\n'\n",
    "    report = 'Test set:\\n' + lines\n",
    "    \n",
    "    print(report)"
   ]
  },
  {
   "cell_type": "code",
   "execution_count": null,
   "metadata": {},
   "outputs": [
    {
     "name": "stdout",
     "output_type": "stream",
     "text": [
      "Train Epoch: 1 [0/60000 (0%)]\tLosses 0: 2.297355 1: 2.293457\n",
      "Train Epoch: 1 [10000/60000 (17%)]\tLosses 0: 0.340604 1: 0.347098\n",
      "Train Epoch: 1 [20000/60000 (33%)]\tLosses 0: 0.128634 1: 0.137481\n",
      "Train Epoch: 1 [30000/60000 (50%)]\tLosses 0: 0.195921 1: 0.215686\n",
      "Train Epoch: 1 [40000/60000 (67%)]\tLosses 0: 0.049144 1: 0.058770\n",
      "Train Epoch: 1 [50000/60000 (83%)]\tLosses 0: 0.136484 1: 0.107077\n",
      "Train Epoch: 1 [60000/60000 (100%)]\tLosses 0: 0.095489 1: 0.086529\n",
      "Loss: 0.4634\n",
      "Loss: 0.4637\n",
      "Test set:\n",
      "0: Loss: 0.1197\tAccuracy: 9625/10000 (96%)\n",
      "1: Loss: 0.1126\tAccuracy: 9641/10000 (96%)\n",
      "\n",
      "Train Epoch: 2 [0/60000 (0%)]\tLosses 0: 0.061814 1: 0.039600\n",
      "Train Epoch: 2 [10000/60000 (17%)]\tLosses 0: 0.073433 1: 0.106139\n",
      "Train Epoch: 2 [20000/60000 (33%)]\tLosses 0: 0.171802 1: 0.141252\n",
      "Train Epoch: 2 [30000/60000 (50%)]\tLosses 0: 0.036942 1: 0.044467\n",
      "Train Epoch: 2 [40000/60000 (67%)]\tLosses 0: 0.058888 1: 0.056256\n",
      "Train Epoch: 2 [50000/60000 (83%)]\tLosses 0: 0.066679 1: 0.044743\n",
      "Train Epoch: 2 [60000/60000 (100%)]\tLosses 0: 0.098196 1: 0.154217\n",
      "Loss: 0.0811\n",
      "Loss: 0.0838\n",
      "Test set:\n",
      "0: Loss: 0.0949\tAccuracy: 9693/10000 (97%)\n",
      "1: Loss: 0.0980\tAccuracy: 9684/10000 (97%)\n",
      "\n",
      "Train Epoch: 3 [0/60000 (0%)]\tLosses 0: 0.024541 1: 0.048440\n",
      "Train Epoch: 3 [10000/60000 (17%)]\tLosses 0: 0.059102 1: 0.051535\n",
      "Train Epoch: 3 [20000/60000 (33%)]\tLosses 0: 0.026110 1: 0.042123\n",
      "Train Epoch: 3 [30000/60000 (50%)]\tLosses 0: 0.010010 1: 0.008959\n",
      "Train Epoch: 3 [40000/60000 (67%)]\tLosses 0: 0.033557 1: 0.052593\n",
      "Train Epoch: 3 [50000/60000 (83%)]\tLosses 0: 0.036923 1: 0.024070\n",
      "Train Epoch: 3 [60000/60000 (100%)]\tLosses 0: 0.058662 1: 0.077165\n",
      "Loss: 0.0356\n",
      "Loss: 0.0436\n",
      "Test set:\n",
      "0: Loss: 0.0718\tAccuracy: 9775/10000 (98%)\n",
      "1: Loss: 0.0674\tAccuracy: 9783/10000 (98%)\n",
      "\n",
      "Train Epoch: 4 [0/60000 (0%)]\tLosses 0: 0.065500 1: 0.093633\n",
      "Train Epoch: 4 [10000/60000 (17%)]\tLosses 0: 0.021991 1: 0.015376\n",
      "Train Epoch: 4 [20000/60000 (33%)]\tLosses 0: 0.020900 1: 0.016712\n",
      "Train Epoch: 4 [30000/60000 (50%)]\tLosses 0: 0.055113 1: 0.043016\n",
      "Train Epoch: 4 [40000/60000 (67%)]\tLosses 0: 0.097988 1: 0.056584\n",
      "Train Epoch: 4 [50000/60000 (83%)]\tLosses 0: 0.022843 1: 0.014508\n",
      "Train Epoch: 4 [60000/60000 (100%)]\tLosses 0: 0.092733 1: 0.097140\n",
      "Loss: 0.0539\n",
      "Loss: 0.0481\n",
      "Test set:\n",
      "0: Loss: 0.0688\tAccuracy: 9802/10000 (98%)\n",
      "1: Loss: 0.0703\tAccuracy: 9783/10000 (98%)\n",
      "\n",
      "Train Epoch: 5 [0/60000 (0%)]\tLosses 0: 0.020735 1: 0.032929\n",
      "Train Epoch: 5 [10000/60000 (17%)]\tLosses 0: 0.003370 1: 0.012762\n"
     ]
    }
   ],
   "source": [
    "for epoch in range(1, 7):\n",
    "    train(epoch, models)\n",
    "    test(models)"
   ]
  },
  {
   "cell_type": "code",
   "execution_count": null,
   "metadata": {},
   "outputs": [],
   "source": []
  }
 ],
 "metadata": {
  "kernelspec": {
   "display_name": "Python 3",
   "language": "python",
   "name": "python3"
  },
  "language_info": {
   "codemirror_mode": {
    "name": "ipython",
    "version": 3
   },
   "file_extension": ".py",
   "mimetype": "text/x-python",
   "name": "python",
   "nbconvert_exporter": "python",
   "pygments_lexer": "ipython3",
   "version": "3.7.5"
  }
 },
 "nbformat": 4,
 "nbformat_minor": 2
}
